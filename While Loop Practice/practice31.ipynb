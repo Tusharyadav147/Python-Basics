{
 "cells": [
  {
   "cell_type": "markdown",
   "metadata": {},
   "source": [
    "### 31. Write a Python program to calculate a dog's age in dog's years.\n",
    "\n",
    "Note: For the first two years, a dog year is equal to 10.5\n",
    "human years. After that, each dog year equals 4 human years.\n",
    "\n",
    "Expected Output:\n",
    "\n",
    "Input a dog's age in human years: 15\n",
    "\n",
    "The dog's age in dog's years is 73"
   ]
  },
  {
   "cell_type": "code",
   "execution_count": 1,
   "metadata": {},
   "outputs": [
    {
     "name": "stdout",
     "output_type": "stream",
     "text": [
      "Dog age in dog year is 73.0\n"
     ]
    }
   ],
   "source": [
    "dog_age = int(input(\"Enter the age of your dog: \"))\n",
    "if dog_age < 2:\n",
    "    dog_year = dog_age * 10.5\n",
    "    print(\"Dog age in dog year is {}\".format(dog_year))\n",
    "elif dog_age > 2:\n",
    "    remain_age = dog_age-2\n",
    "    dog_year = remain_age*4 + 2*10.5\n",
    "    print(\"Dog age in dog year is {}\".format(dog_year))\n",
    "else:\n",
    "    print(\"Wrong Age\")"
   ]
  },
  {
   "cell_type": "markdown",
   "metadata": {},
   "source": [
    "### 32. Write a Python program to check whether an alphabet is a\n",
    "vowel or consonant.\n",
    "\n",
    "Expected Output:\n",
    "\n",
    "Input a letter of the alphabet: k\n",
    "\n",
    "k is a consonant."
   ]
  },
  {
   "cell_type": "code",
   "execution_count": 3,
   "metadata": {},
   "outputs": [
    {
     "name": "stdout",
     "output_type": "stream",
     "text": [
      "a is a vowel\n"
     ]
    }
   ],
   "source": [
    "vowel = [\"a\",\"e\",\"i\",\"o\",\"u\"]\n",
    "alp = input(\"Enter an alphabet: \")\n",
    "if alp in vowel:\n",
    "    print(\"{} is a vowel\".format(alp))\n",
    "else:\n",
    "    print(\"{} is consonant\".format(alp))"
   ]
  },
  {
   "cell_type": "markdown",
   "metadata": {},
   "source": [
    "### 33. Write a Python program to convert month name to a number of days.\n",
    "\n",
    "Expected Output:\n",
    "\n",
    "List of months: January, February, March, April, May, June,July, August, September, October, November, December\n",
    "\n",
    "Input the name of Month: February\n",
    "\n",
    "No. of days: 28/29 days"
   ]
  },
  {
   "cell_type": "code",
   "execution_count": 4,
   "metadata": {},
   "outputs": [
    {
     "name": "stdout",
     "output_type": "stream",
     "text": [
      "List of months: January, February, March, April, May, June, July, August, September, October, November, December\n",
      "No. of days: 31 day\n"
     ]
    }
   ],
   "source": [
    "print(\"List of months: January, February, March, April, May, June, July, August, September, October, November, December\")\n",
    "month_name = input(\"Input the name of Month: \")\n",
    "\n",
    "if month_name == \"February\":\n",
    "\tprint(\"No. of days: 28/29 days\")\n",
    "elif month_name in (\"April\", \"June\", \"September\", \"November\"):\n",
    "\tprint(\"No. of days: 30 days\")\n",
    "elif month_name in (\"January\", \"March\", \"May\", \"July\", \"August\", \"October\", \"December\"):\n",
    "\tprint(\"No. of days: 31 day\")\n",
    "else:\n",
    "\tprint(\"Wrong month name\") "
   ]
  },
  {
   "cell_type": "markdown",
   "metadata": {},
   "source": [
    "### 34. Write a Python program to sum of two given integers. However, if the sum is between 15 to 20 it will return 20."
   ]
  },
  {
   "cell_type": "code",
   "execution_count": 5,
   "metadata": {},
   "outputs": [
    {
     "name": "stdout",
     "output_type": "stream",
     "text": [
      "20\n"
     ]
    }
   ],
   "source": [
    "num_1 = int(input(\"Enter first number: \"))\n",
    "num_2 = int(input(\"Enter second number: \"))\n",
    "\n",
    "sum = num_1 + num_2\n",
    "if sum in range(15, 20):\n",
    "    print(20)\n",
    "else:\n",
    "    print(sum)"
   ]
  },
  {
   "cell_type": "markdown",
   "metadata": {},
   "source": [
    "### 35. Write a Python program to check a string represent an integer or not.\n",
    "Expected Output:\n",
    "\n",
    "Input a string: Python\n",
    "\n",
    "The string is not an integer."
   ]
  },
  {
   "cell_type": "code",
   "execution_count": 7,
   "metadata": {},
   "outputs": [
    {
     "name": "stdout",
     "output_type": "stream",
     "text": [
      "String is not an integer\n"
     ]
    }
   ],
   "source": [
    "word = input(\"Enter the string: \")\n",
    "try:\n",
    "    check = int(word)\n",
    "    print(\"String is an integer\")\n",
    "except:\n",
    "    print('String is not an integer')"
   ]
  },
  {
   "cell_type": "markdown",
   "metadata": {},
   "source": [
    "### 36. Write a Python program to check a triangle isequilateral, isosceles or scalene.\n",
    "Note :\n",
    "\n",
    "An equilateral triangle is a triangle in which all three sides are equal.\n",
    "\n",
    "A scalene triangle is a triangle that has three unequal sides.\n",
    "\n",
    "An isosceles triangle is a triangle with (at least) two equal sides.\n",
    "\n",
    "Expected Output:\n",
    "\n",
    "Input lengths of the triangle sides:\n",
    "\n",
    "x: 6\n",
    "\n",
    "y: 8\n",
    "\n",
    "z: 12\n",
    "\n",
    "Scalene triangle"
   ]
  },
  {
   "cell_type": "code",
   "execution_count": 11,
   "metadata": {},
   "outputs": [
    {
     "name": "stdout",
     "output_type": "stream",
     "text": [
      "Isosceles Triangle\n"
     ]
    }
   ],
   "source": [
    "x = int(input(\"Enter first side of triangle: \"))\n",
    "y = int(input(\"Enter second side of triangle: \"))\n",
    "z = int(input(\"Enter third side of triangle: \"))\n",
    "\n",
    "if x == y and y == z and z == x:\n",
    "    print(\"Equilateral Triangle\")\n",
    "elif x != y and y != z and z != x:\n",
    "    print(\"Scalene Triangle\")\n",
    "elif x == y or y == z or z == x:\n",
    "    print(\"Isosceles Triangle\")\n"
   ]
  },
  {
   "cell_type": "markdown",
   "metadata": {},
   "source": [
    "### 37. Write a Python program that reads two integers representing a month and day and prints the season for that month and day.\n",
    "Expected Output:\n",
    "\n",
    "Input the month (e.g. January, February etc.): july\n",
    "\n",
    "Input the day: 31\n",
    "\n",
    "Season is autumn\n"
   ]
  },
  {
   "cell_type": "code",
   "execution_count": 12,
   "metadata": {},
   "outputs": [
    {
     "name": "stdout",
     "output_type": "stream",
     "text": [
      "Season is winter\n"
     ]
    }
   ],
   "source": [
    "month = input(\"Input the month (e.g. January, February etc.): \")\n",
    "day = int(input(\"Input the day: \"))\n",
    "\n",
    "if month in ('January', 'February', 'March'):\n",
    "\tseason = 'winter'\n",
    "elif month in ('April', 'May', 'June'):\n",
    "\tseason = 'spring'\n",
    "elif month in ('July', 'August', 'September'):\n",
    "\tseason = 'summer'\n",
    "else:\n",
    "\tseason = 'autumn'\n",
    "\n",
    "if (month == 'March') and (day > 19):\n",
    "\tseason = 'spring'\n",
    "elif (month == 'June') and (day > 20):\n",
    "\tseason = 'summer'\n",
    "elif (month == 'September') and (day > 21):\n",
    "\tseason = 'autumn'\n",
    "elif (month == 'December') and (day > 20):\n",
    "\tseason = 'winter'\n",
    "\n",
    "print(\"Season is\",season)"
   ]
  },
  {
   "cell_type": "markdown",
   "metadata": {},
   "source": [
    "### 38. Write a Python program to display astrological sign for given date of birth.\n",
    "Expected Output:\n",
    "\n",
    "Input birthday: 15\n",
    "\n",
    "Input month of birth (e.g. march, july etc): may\n",
    "\n",
    "Your Astrological sign is : Taurus"
   ]
  },
  {
   "cell_type": "code",
   "execution_count": 15,
   "metadata": {},
   "outputs": [
    {
     "name": "stdout",
     "output_type": "stream",
     "text": [
      "Your Astrological sign is : taurus\n"
     ]
    }
   ],
   "source": [
    "day = int(input(\"Input birthday: \"))\n",
    "month = input(\"Input month of birth (e.g. march, july etc): \")\n",
    "if month == 'december':\n",
    "\tastro_sign = 'Sagittarius' if (day < 22) else 'capricorn'\n",
    "elif month == 'january':\n",
    "\tastro_sign = 'Capricorn' if (day < 20) else 'aquarius'\n",
    "elif month == 'february':\n",
    "\tastro_sign = 'Aquarius' if (day < 19) else 'pisces'\n",
    "elif month == 'march':\n",
    "\tastro_sign = 'Pisces' if (day < 21) else 'aries'\n",
    "elif month == 'april':\n",
    "\tastro_sign = 'Aries' if (day < 20) else 'taurus'\n",
    "elif month == 'may':\n",
    "\tastro_sign = 'Taurus' if (day < 21) else 'gemini'\n",
    "elif month == 'june':\n",
    "\tastro_sign = 'Gemini' if (day < 21) else 'cancer'\n",
    "elif month == 'july':\n",
    "\tastro_sign = 'Cancer' if (day < 23) else 'leo'\n",
    "elif month == 'august':\n",
    "\tastro_sign = 'Leo' if (day < 23) else 'virgo'\n",
    "elif month == 'september':\n",
    "\tastro_sign = 'Virgo' if (day < 23) else 'libra'\n",
    "elif month == 'october':\n",
    "\tastro_sign = 'Libra' if (day < 23) else 'scorpio'\n",
    "elif month == 'november':\n",
    "\tastro_sign = 'scorpio' if (day < 22) else 'sagittarius'\n",
    "print(\"Your Astrological sign is :\",astro_sign)"
   ]
  },
  {
   "cell_type": "markdown",
   "metadata": {},
   "source": [
    "### 39. Write a Python program to display the sign of the Chinese Zodiac for given year in which you were born.\n",
    "Expected Output:\n",
    "\n",
    "Input your birth year: 1973\n",
    "\n",
    "Your Zodiac sign : Ox"
   ]
  },
  {
   "cell_type": "code",
   "execution_count": 16,
   "metadata": {},
   "outputs": [
    {
     "name": "stdout",
     "output_type": "stream",
     "text": [
      "Your Zodiac sign : Dragon\n"
     ]
    }
   ],
   "source": [
    "year = int(input(\"Input your birth year: \"))\n",
    "if (year - 2000) % 12 == 0:\n",
    "    sign = 'Dragon'\n",
    "elif (year - 2000) % 12 == 1:\n",
    "    sign = 'Snake'\n",
    "elif (year - 2000) % 12 == 2:\n",
    "    sign = 'Horse'\n",
    "elif (year - 2000) % 12 == 3:\n",
    "    sign = 'sheep'\n",
    "elif (year - 2000) % 12 == 4:\n",
    "    sign = 'Monkey'\n",
    "elif (year - 2000) % 12 == 5:\n",
    "    sign = 'Rooster'\n",
    "elif (year - 2000) % 12 == 6:\n",
    "    sign = 'Dog'\n",
    "elif (year - 2000) % 12 == 7:\n",
    "    sign = 'Pig'\n",
    "elif (year - 2000) % 12 == 8:\n",
    "    sign = 'Rat'\n",
    "elif (year - 2000) % 12 == 9:\n",
    "    sign = 'Ox'\n",
    "elif (year - 2000) % 12 == 10:\n",
    "    sign = 'Tiger'\n",
    "else:\n",
    "    sign = 'Hare'\n",
    "\n",
    "print(\"Your Zodiac sign :\",sign)"
   ]
  },
  {
   "cell_type": "markdown",
   "metadata": {},
   "source": [
    "### 40. Write a Python program to find the median of three values.\n",
    "\n",
    "Expected Output:\n",
    "\n",
    "Input first number: 15\n",
    "\n",
    "Input second number: 26\n",
    "\n",
    "Input third number: 29\n",
    "\n",
    "The median is 26.0\n"
   ]
  },
  {
   "cell_type": "code",
   "execution_count": 21,
   "metadata": {},
   "outputs": [
    {
     "name": "stdout",
     "output_type": "stream",
     "text": [
      "The median is 5.0\n"
     ]
    }
   ],
   "source": [
    "a = float(input(\"Input first number: \"))\n",
    "b = float(input(\"Input second number: \"))\n",
    "c = float(input(\"Input third number: \"))\n",
    "if a > b:\n",
    "    if a < c:\n",
    "        median = a\n",
    "    elif b > c:\n",
    "        median = b\n",
    "    else:\n",
    "        median = c\n",
    "else:\n",
    "    if a > c:\n",
    "        median = a\n",
    "    elif b < c:\n",
    "        median = b\n",
    "    else:\n",
    "        median = c\n",
    "\n",
    "print(\"The median is\", median)"
   ]
  },
  {
   "cell_type": "code",
   "execution_count": 18,
   "metadata": {},
   "outputs": [
    {
     "name": "stdout",
     "output_type": "stream",
     "text": [
      "3.0\n"
     ]
    }
   ],
   "source": [
    "import statistics\n",
    "a = float(input(\"Input first number: \"))\n",
    "b = float(input(\"Input second number: \"))\n",
    "c = float(input(\"Input third number: \"))\n",
    "\n",
    "print(statistics.median([a,b,c]))"
   ]
  },
  {
   "cell_type": "code",
   "execution_count": 20,
   "metadata": {},
   "outputs": [
    {
     "name": "stdout",
     "output_type": "stream",
     "text": [
      "5.0\n"
     ]
    }
   ],
   "source": [
    "a = float(input(\"Input first number: \"))\n",
    "b = float(input(\"Input second number: \"))\n",
    "c = float(input(\"Input third number: \"))\n",
    "\n",
    "l = [a,b,c]\n",
    "l.sort()\n",
    "print(l[1])"
   ]
  },
  {
   "cell_type": "markdown",
   "metadata": {},
   "source": [
    "### 41. Write a Python program to get next day of a given date.\n",
    "Expected Output:\n",
    "\n",
    "Input a year: 2016\n",
    "\n",
    "Input a month [1-12]: 08\n",
    "\n",
    "Input a day [1-31]: 23\n",
    "\n",
    "The next date is [yyyy-mm-dd] 2016-8-24"
   ]
  },
  {
   "cell_type": "code",
   "execution_count": 25,
   "metadata": {},
   "outputs": [
    {
     "name": "stdout",
     "output_type": "stream",
     "text": [
      "(1, 2)\n"
     ]
    }
   ],
   "source": [
    "year = int(input(\"Input a year: \"))\n",
    "\n",
    "if (year % 400 == 0):\n",
    "    leap_year = True\n",
    "elif (year % 100 == 0):\n",
    "    leap_year = False\n",
    "elif (year % 4 == 0):\n",
    "    leap_year = True\n",
    "else:\n",
    "    leap_year = False\n",
    "\n",
    "month = int(input(\"Input a month [1-12]: \"))\n",
    "\n",
    "if month in (1, 3, 5, 7, 8, 10, 12):\n",
    "    month_length = 31\n",
    "elif month == 2:\n",
    "    if leap_year:\n",
    "        month_length = 29\n",
    "    else:\n",
    "        month_length = 28\n",
    "else:\n",
    "    month_length = 30\n",
    "\n",
    "\n",
    "day = int(input(\"Input a day [1-31]: \"))\n",
    "\n",
    "if day < month_length:\n",
    "    day += 1\n",
    "else:\n",
    "    day = 1\n",
    "    if month == 12:\n",
    "        month = 1\n",
    "        year += 1\n",
    "    else:\n",
    "        month += 1\n",
    "print(\"The next date is [yyyy-mm-dd] %d-%d-%d.\" % (year, month, day))"
   ]
  },
  {
   "cell_type": "markdown",
   "metadata": {},
   "source": [
    "### 42. Write a Python program to calculate the sum and average of n integer numbers (input from the user). Input 0 to finish."
   ]
  },
  {
   "cell_type": "code",
   "execution_count": 1,
   "metadata": {},
   "outputs": [
    {
     "name": "stdout",
     "output_type": "stream",
     "text": [
      "Input some integers to calculate their sum and average. Input 0 to exit.\n",
      "Average and Sum of the above numbers are:  3.0 15.0\n"
     ]
    }
   ],
   "source": [
    "print(\"Input some integers to calculate their sum and average. Input 0 to exit.\")\n",
    "\n",
    "count = 0\n",
    "sum = 0.0\n",
    "number = 1\n",
    "\n",
    "while number != 0:\n",
    "\tnumber = int(input(\"\"))\n",
    "\tsum = sum + number\n",
    "\tcount += 1\n",
    "\n",
    "if count == 0:\n",
    "\tprint(\"Input some numbers\")\n",
    "else:\n",
    "\tprint(\"Average and Sum of the above numbers are: \", sum / (count-1), sum)"
   ]
  },
  {
   "cell_type": "markdown",
   "metadata": {},
   "source": [
    "### 43. Write a Python program to create the multiplication table(from 1 to 10) of a number."
   ]
  },
  {
   "cell_type": "code",
   "execution_count": 2,
   "metadata": {},
   "outputs": [
    {
     "name": "stdout",
     "output_type": "stream",
     "text": [
      "4 x 1 = 4\n",
      "4 x 2 = 8\n",
      "4 x 3 = 12\n",
      "4 x 4 = 16\n",
      "4 x 5 = 20\n",
      "4 x 6 = 24\n",
      "4 x 7 = 28\n",
      "4 x 8 = 32\n",
      "4 x 9 = 36\n",
      "4 x 10 = 40\n"
     ]
    }
   ],
   "source": [
    "n = int(input(\"Input a number: \"))\n",
    "# use for loop to iterate 10 times\n",
    "for i in range(1,11):\n",
    "   print(n,'x',i,'=',n*i)"
   ]
  },
  {
   "cell_type": "markdown",
   "metadata": {},
   "source": [
    "44. Write a Python program to construct the following pattern, using a nested loop number.\n",
    "Expected Output:\n",
    "\n",
    "1\n",
    "\n",
    "22\n",
    "\n",
    "333\n",
    "\n",
    "4444\n",
    "\n",
    "55555\n",
    "\n",
    "666666\n",
    "\n",
    "7777777\n",
    "\n",
    "88888888\n",
    "\n",
    "999999999"
   ]
  },
  {
   "cell_type": "code",
   "execution_count": 7,
   "metadata": {},
   "outputs": [
    {
     "name": "stdout",
     "output_type": "stream",
     "text": [
      "1\n",
      "22\n",
      "333\n",
      "4444\n",
      "55555\n",
      "666666\n",
      "7777777\n",
      "88888888\n",
      "999999999\n"
     ]
    }
   ],
   "source": [
    "num = int(input(\"Enter the lenght: \"))\n",
    "rows = 1\n",
    "while rows < num+1:\n",
    "    temp1 = 0\n",
    "    while temp1 < rows:\n",
    "        print(rows, end = \"\")\n",
    "        temp1 += 1\n",
    "    print()\n",
    "    rows += 1"
   ]
  },
  {
   "cell_type": "code",
   "execution_count": null,
   "metadata": {},
   "outputs": [],
   "source": []
  }
 ],
 "metadata": {
  "interpreter": {
   "hash": "11938c6bc6919ae2720b4d5011047913343b08a43b18698fd82dedb0d4417594"
  },
  "kernelspec": {
   "display_name": "Python 3.9.7 64-bit",
   "language": "python",
   "name": "python3"
  },
  "language_info": {
   "codemirror_mode": {
    "name": "ipython",
    "version": 3
   },
   "file_extension": ".py",
   "mimetype": "text/x-python",
   "name": "python",
   "nbconvert_exporter": "python",
   "pygments_lexer": "ipython3",
   "version": "3.9.7"
  },
  "orig_nbformat": 4
 },
 "nbformat": 4,
 "nbformat_minor": 2
}
