{
 "cells": [
  {
   "cell_type": "markdown",
   "metadata": {},
   "source": [
    "# To reverse a number"
   ]
  },
  {
   "cell_type": "code",
   "execution_count": 1,
   "metadata": {},
   "outputs": [
    {
     "name": "stdout",
     "output_type": "stream",
     "text": [
      "7654\n"
     ]
    }
   ],
   "source": [
    "num = int(input())\n",
    "s = 0\n",
    "while num > 0:\n",
    "    raminder = num%10\n",
    "    s = s*10 + raminder\n",
    "    num = num//10\n",
    "print(s)"
   ]
  },
  {
   "cell_type": "markdown",
   "metadata": {},
   "source": [
    "# Check Palendrom Number"
   ]
  },
  {
   "cell_type": "code",
   "execution_count": 4,
   "metadata": {},
   "outputs": [
    {
     "name": "stdout",
     "output_type": "stream",
     "text": [
      "1234321\n",
      "It is palendrom number\n"
     ]
    }
   ],
   "source": [
    "num = int(input())\n",
    "s = 0\n",
    "temp = num\n",
    "while num > 0:\n",
    "    r = num%10\n",
    "    s = s*10 + r\n",
    "    num = num//10\n",
    "print(s)\n",
    "\n",
    "if s == temp:\n",
    "    print(\"It is palendrom number\")\n",
    "else:\n",
    "    print(\"Not a palendrom number\")"
   ]
  },
  {
   "cell_type": "markdown",
   "metadata": {},
   "source": [
    "# Print number in character"
   ]
  },
  {
   "cell_type": "code",
   "execution_count": 5,
   "metadata": {},
   "outputs": [
    {
     "name": "stdout",
     "output_type": "stream",
     "text": [
      "One\n",
      "Three\n",
      "Four\n",
      "Five\n"
     ]
    }
   ],
   "source": [
    "d = {1 : \"One\", 2: \"Two\", 3: \"Three\", 4: \"Four\", 5: \"Five\", 6: \"Six\", 7: \"Seven\", 8: \"Eight\", 9: \"Nine\", 0: \"Zero\"}\n",
    "n = int(input(\"Enter: \"))\n",
    "s = 0\n",
    "t = n\n",
    "while n > 0:\n",
    "    r = n%10\n",
    "    s = s*10 + r\n",
    "    n = n//10\n",
    "while s> 0:\n",
    "    r = s%10\n",
    "    print(d[r])\n",
    "    s = s//10"
   ]
  },
  {
   "cell_type": "markdown",
   "metadata": {},
   "source": [
    "# Factorial of a number"
   ]
  },
  {
   "cell_type": "code",
   "execution_count": 6,
   "metadata": {},
   "outputs": [
    {
     "name": "stdout",
     "output_type": "stream",
     "text": [
      "The Factorial Of 5 Is 120\n"
     ]
    }
   ],
   "source": [
    "num = int(input(\"Enter Any Number:\"))\n",
    "factorial = 1\n",
    "if num < 0:\n",
    "    print(\"Sorry The Factorial Of -ve Number Is Not Possible\")\n",
    "elif num == 0:\n",
    "    print(\"The Factorial Of Zero Is 1\")\n",
    "else:\n",
    "    for i in range(1,num+1):\n",
    "        factorial = factorial*i\n",
    "    print(\"The Factorial Of\",num,\"Is\",factorial)"
   ]
  },
  {
   "cell_type": "markdown",
   "metadata": {},
   "source": [
    "# Fibonacci sequence?"
   ]
  },
  {
   "cell_type": "code",
   "execution_count": 9,
   "metadata": {},
   "outputs": [
    {
     "name": "stdout",
     "output_type": "stream",
     "text": [
      "0\n",
      "1\n",
      "1\n",
      "2\n",
      "3\n",
      "5\n",
      "8\n",
      "13\n",
      "21\n",
      "34\n"
     ]
    }
   ],
   "source": [
    "ran = int(input(\"Enter\"))\n",
    "m = 0\n",
    "num_1 = 0\n",
    "num_2 = 1\n",
    "print(num_1)\n",
    "print(num_2)\n",
    "while m < ran-2:\n",
    "    c = num_1+num_2\n",
    "    print(c)\n",
    "    num_1, num_2 = num_2, c\n",
    "    m += 1"
   ]
  },
  {
   "cell_type": "code",
   "execution_count": null,
   "metadata": {},
   "outputs": [],
   "source": [
    "# Using For Loop\n",
    "num_1 = 0\n",
    "print(num_1)\n",
    "num_2 = 1\n",
    "print(num_2)\n",
    "for i in range(0,20):\n",
    "    num_3 = num_1 + num_2\n",
    "    print(num_3)\n",
    "    num_1, num_2 = num_2, num_3\n",
    "    print(\"passs\")"
   ]
  },
  {
   "cell_type": "markdown",
   "metadata": {},
   "source": [
    "# Sum of all number form 1 to 1000 which are divisible  by either 3 or 5 except those number which are divisible by both 3 and 5"
   ]
  },
  {
   "cell_type": "code",
   "execution_count": 11,
   "metadata": {},
   "outputs": [
    {
     "name": "stdout",
     "output_type": "stream",
     "text": [
      "201003\n"
     ]
    }
   ],
   "source": [
    "num = 1\n",
    "m = 0\n",
    "while num < 1001:\n",
    "    if num%3 == 0 or num%5 == 0:\n",
    "        if num%3 == 0 and num%5 == 0:\n",
    "            pass\n",
    "        else:\n",
    "            m = m+ num\n",
    "    num +=1\n",
    "print(m)"
   ]
  }
 ],
 "metadata": {
  "interpreter": {
   "hash": "11938c6bc6919ae2720b4d5011047913343b08a43b18698fd82dedb0d4417594"
  },
  "kernelspec": {
   "display_name": "Python 3.9.7 64-bit",
   "language": "python",
   "name": "python3"
  },
  "language_info": {
   "codemirror_mode": {
    "name": "ipython",
    "version": 3
   },
   "file_extension": ".py",
   "mimetype": "text/x-python",
   "name": "python",
   "nbconvert_exporter": "python",
   "pygments_lexer": "ipython3",
   "version": "3.9.7"
  },
  "orig_nbformat": 4
 },
 "nbformat": 4,
 "nbformat_minor": 2
}
