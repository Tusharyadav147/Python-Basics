{
 "cells": [
  {
   "cell_type": "markdown",
   "metadata": {},
   "source": [
    "### 1. Write a Python program to find those numbers which are divisible by 7 and multiple of 5, between 1500 and 2700 (both included)."
   ]
  },
  {
   "cell_type": "code",
   "execution_count": 1,
   "metadata": {},
   "outputs": [
    {
     "name": "stdout",
     "output_type": "stream",
     "text": [
      "1505 divisible by 7 and multiple of 5\n",
      "1540 divisible by 7 and multiple of 5\n",
      "1575 divisible by 7 and multiple of 5\n",
      "1610 divisible by 7 and multiple of 5\n",
      "1645 divisible by 7 and multiple of 5\n",
      "1680 divisible by 7 and multiple of 5\n",
      "1715 divisible by 7 and multiple of 5\n",
      "1750 divisible by 7 and multiple of 5\n",
      "1785 divisible by 7 and multiple of 5\n",
      "1820 divisible by 7 and multiple of 5\n",
      "1855 divisible by 7 and multiple of 5\n",
      "1890 divisible by 7 and multiple of 5\n",
      "1925 divisible by 7 and multiple of 5\n",
      "1960 divisible by 7 and multiple of 5\n",
      "1995 divisible by 7 and multiple of 5\n",
      "2030 divisible by 7 and multiple of 5\n",
      "2065 divisible by 7 and multiple of 5\n",
      "2100 divisible by 7 and multiple of 5\n",
      "2135 divisible by 7 and multiple of 5\n",
      "2170 divisible by 7 and multiple of 5\n",
      "2205 divisible by 7 and multiple of 5\n",
      "2240 divisible by 7 and multiple of 5\n",
      "2275 divisible by 7 and multiple of 5\n",
      "2310 divisible by 7 and multiple of 5\n",
      "2345 divisible by 7 and multiple of 5\n",
      "2380 divisible by 7 and multiple of 5\n",
      "2415 divisible by 7 and multiple of 5\n",
      "2450 divisible by 7 and multiple of 5\n",
      "2485 divisible by 7 and multiple of 5\n",
      "2520 divisible by 7 and multiple of 5\n",
      "2555 divisible by 7 and multiple of 5\n",
      "2590 divisible by 7 and multiple of 5\n",
      "2625 divisible by 7 and multiple of 5\n",
      "2660 divisible by 7 and multiple of 5\n",
      "2695 divisible by 7 and multiple of 5\n"
     ]
    }
   ],
   "source": [
    "n = 1500\n",
    "while n >= 1500 and n <= 2700:\n",
    "    if n % 7 == 0 and n % 5 == 0:\n",
    "        print(\"{} divisible by 7 and multiple of 5\".format(n))\n",
    "    n += 1"
   ]
  },
  {
   "cell_type": "markdown",
   "metadata": {},
   "source": [
    "### 2. Write a Python program to convert temperatures to and from\n",
    "### celsius, fahrenheit.\n",
    "### [ Formula : c/5 = f-32/9 [ where c = temperature in celsius\n",
    "### and f = temperature in fahrenheit ]\n",
    "### Expected Output :\n",
    "### 60°C is 140 in Fahrenheit\n",
    "### 45°F is 7 in Celsius"
   ]
  },
  {
   "cell_type": "code",
   "execution_count": 2,
   "metadata": {},
   "outputs": [
    {
     "name": "stdout",
     "output_type": "stream",
     "text": [
      "Select the conversion type(i.e. Select 1 or 2):- \n",
      "1) Convert Celsius into fahrenheit \n",
      "2) Convert fahrenheit into Celsius\n",
      "45 Celsius in fahrenheit is = 113.0\n"
     ]
    }
   ],
   "source": [
    "print(\"Select the conversion type(i.e. Select 1 or 2):- \\n1) Convert Celsius into fahrenheit \\n2) Convert fahrenheit into Celsius\")\n",
    "n = int(input(\"Enter 1 or 2: \"))\n",
    "\n",
    "if n == 1:\n",
    "    c = int(input(\"Enter Temperature: \"))\n",
    "    f = (c*9/5) + 32\n",
    "    print(\"{} Celsius in fahrenheit is = {}\".format(c,f))\n",
    "\n",
    "elif n == 2:\n",
    "    f = int(input(\"Enter Temperature: \"))\n",
    "    c = (f-32)*5/9\n",
    "    print(\"{} fahrenheit in celsius is = {}\".format(f,c))\n"
   ]
  },
  {
   "cell_type": "markdown",
   "metadata": {},
   "source": [
    "### 3. Write a Python program to guess a number between 1 to 9. Note : User is prompted to enter a guess. If the user guesses wrong then the prompt appears again until the guess is correct, on successful guess, user will get a \"Well guessed!\" message, and the program will exit"
   ]
  },
  {
   "cell_type": "code",
   "execution_count": 3,
   "metadata": {},
   "outputs": [
    {
     "name": "stdout",
     "output_type": "stream",
     "text": [
      "Well Guessed !\n"
     ]
    }
   ],
   "source": [
    "n = 0\n",
    "while n >= 0:\n",
    "    n = int(input(\"Enter a number :\"))\n",
    "    if n>= 1  and n <= 9:\n",
    "        print(\"Well Guessed !\")\n",
    "        break\n",
    "    else:\n",
    "        pass"
   ]
  },
  {
   "cell_type": "markdown",
   "metadata": {},
   "source": [
    "### 4. Write a Python program to construct the following pattern, using a nested for loop."
   ]
  },
  {
   "cell_type": "code",
   "execution_count": 4,
   "metadata": {},
   "outputs": [
    {
     "name": "stdout",
     "output_type": "stream",
     "text": [
      "\n",
      "*\n",
      "**\n",
      "***\n",
      "****\n",
      "*****\n",
      "******\n",
      "*****\n",
      "****\n",
      "***\n",
      "**\n",
      "*\n"
     ]
    }
   ],
   "source": [
    "\"\"\"*\n",
    "* *\n",
    "* * *\n",
    "* * * *\n",
    "* * * * *\n",
    "* * * *\n",
    "* * *\n",
    "* *\n",
    "*\"\"\"\n",
    "n = int(input(\"Enter how many star you want in center: \"))\n",
    "m = 2\n",
    "for i in range(0, 2*n):\n",
    "    if i <= n:\n",
    "        print(\"*\"*i)\n",
    "    else:\n",
    "        print(\"*\"*(i-m))\n",
    "        m += 2"
   ]
  },
  {
   "cell_type": "markdown",
   "metadata": {},
   "source": [
    "### 5. Write a Python program that accepts a word from the user and reverse it."
   ]
  },
  {
   "cell_type": "code",
   "execution_count": 5,
   "metadata": {},
   "outputs": [
    {
     "name": "stdout",
     "output_type": "stream",
     "text": [
      "rahsuT\n"
     ]
    }
   ],
   "source": [
    "word = input(\"Enter word to reverse it: \")\n",
    "n = len(word)\n",
    "m = n-1\n",
    "reverse_word = \"\"\n",
    "for i in range(0, n):\n",
    "    reverse_word += word[m]\n",
    "    m -= 1\n",
    "print(reverse_word)"
   ]
  },
  {
   "cell_type": "markdown",
   "metadata": {},
   "source": [
    "### 6. Write a Python program to count the number of even and odd\n",
    "\"\"\"numbers from a series of numbers.\n",
    "Sample numbers : numbers = (1, 2, 3, 4, 5, 6, 7, 8, 9)\n",
    "Expected Output :\n",
    "Number of even numbers : 5\n",
    "Number of odd numbers : 4\"\"\""
   ]
  },
  {
   "cell_type": "code",
   "execution_count": 6,
   "metadata": {},
   "outputs": [
    {
     "name": "stdout",
     "output_type": "stream",
     "text": [
      "Number of even numbers :  4\n",
      "Number of odd numbers :  5\n"
     ]
    }
   ],
   "source": [
    "numbers = [1, 2, 3, 4, 5, 6, 7, 8, 9]\n",
    "even_no = 0\n",
    "odd_no = 0\n",
    "for i in numbers:\n",
    "    if i%2 == 0:\n",
    "        even_no += 1\n",
    "    else:\n",
    "        odd_no += 1\n",
    "print(\"Number of even numbers : \", even_no)\n",
    "print(\"Number of odd numbers : \", odd_no)"
   ]
  },
  {
   "cell_type": "markdown",
   "metadata": {},
   "source": [
    "### 7. Write a Python program that prints each item and its corresponding type from the following list.Sample List : datalist = [1452, 11.23, 1+2j, True,'w3resource', (0, -1), [5, 12], {\"class\":'V', \"section\":'A'}]"
   ]
  },
  {
   "cell_type": "code",
   "execution_count": 7,
   "metadata": {},
   "outputs": [
    {
     "name": "stdout",
     "output_type": "stream",
     "text": [
      "Type of 1452 is <class 'int'>\n",
      "Type of 11.23 is <class 'float'>\n",
      "Type of (1+2j) is <class 'complex'>\n",
      "Type of True is <class 'bool'>\n",
      "Type of w3resource is <class 'str'>\n",
      "Type of (0, -1) is <class 'tuple'>\n",
      "Type of [5, 12] is <class 'list'>\n",
      "Type of {'class': 'V', 'section': 'A'} is <class 'dict'>\n"
     ]
    }
   ],
   "source": [
    "datalist = [1452, 11.23, 1+2j, True,'w3resource', (0, -1), [5, 12], {\"class\":'V', \"section\":'A'}]\n",
    "for i in datalist:\n",
    "    print(\"Type of {} is {}\".format(i, type(i)))"
   ]
  },
  {
   "cell_type": "markdown",
   "metadata": {},
   "source": [
    "### 8. Write a Python program that prints all the numbers from 0 to 6 except 3 and 6. Note : Use 'continue' statement.Expected Output : 0 1 2 4 5"
   ]
  },
  {
   "cell_type": "code",
   "execution_count": 8,
   "metadata": {},
   "outputs": [
    {
     "name": "stdout",
     "output_type": "stream",
     "text": [
      "0, 1, 2, 4, 5, "
     ]
    }
   ],
   "source": [
    "\n",
    "for i in range(7):\n",
    "    if i != 3 and i !=6:\n",
    "        print(i, end=\", \")"
   ]
  },
  {
   "cell_type": "markdown",
   "metadata": {},
   "source": [
    "### 9. Write a Python program to get the Fibonacci series between 0 to 50. Note : The Fibonacci Sequence is the series of numbers :0, 1, 1, 2, 3, 5, 8, 13, 21, .... Every next number is found by adding up the two numbers before it. Expected Output : 1 1 2 3 5 8 13 21 34"
   ]
  },
  {
   "cell_type": "code",
   "execution_count": 9,
   "metadata": {},
   "outputs": [
    {
     "name": "stdout",
     "output_type": "stream",
     "text": [
      "0, 1, 1, 2, 3, 5, "
     ]
    }
   ],
   "source": [
    "n = int(input(\"Enter lenght of series: \"))\n",
    "m = 0\n",
    "a = 0\n",
    "b = 1\n",
    "print(a, end=\", \")\n",
    "print(b, end = \", \")\n",
    "while m < n-2:\n",
    "    c = a+b\n",
    "    print(c, end = \", \")\n",
    "    a, b = b, c\n",
    "    m += 1"
   ]
  },
  {
   "cell_type": "markdown",
   "metadata": {},
   "source": [
    "### 10. Write a Python program which iterates the integers from 1to 50. For multiples of three print \"Fizz\" instead of the numberand for the multiples of five print \"Buzz\". For numbers which are multiples of both three and five print \"FizzBuzz\""
   ]
  },
  {
   "cell_type": "code",
   "execution_count": 10,
   "metadata": {},
   "outputs": [
    {
     "name": "stdout",
     "output_type": "stream",
     "text": [
      "1, 2, Fizz, 4, Buzz, Fizz, 7, 8, Fizz, Buzz, 11, Fizz, 13, 14, FizzBuzz, 16, 17, Fizz, 19, Buzz, Fizz, 22, 23, Fizz, Buzz, 26, Fizz, 28, 29, FizzBuzz, 31, 32, Fizz, 34, Buzz, Fizz, 37, 38, Fizz, Buzz, 41, Fizz, 43, 44, FizzBuzz, 46, 47, Fizz, 49, "
     ]
    }
   ],
   "source": [
    "for i in range(1,50):\n",
    "    if i%3 == 0 and i%5 == 0:\n",
    "        print(\"FizzBuzz\", end=\", \")\n",
    "    elif i%3 == 0:\n",
    "        print(\"Fizz\", end=\", \")\n",
    "    elif i%5 == 0:\n",
    "        print(\"Buzz\", end=\", \")\n",
    "    else:\n",
    "        print(i, end=\", \")"
   ]
  },
  {
   "cell_type": "markdown",
   "metadata": {},
   "source": [
    "### 11. Write a Python program which takes two digits m (row) and n (column) as input and generates a two-dimensional array. The element value in the i-th row and j-th column of the array should be i*j. Note : i = 0,1.., m-1 j = 0,1, n-1. Test Data : Rows = 3, Columns = 4 Expected Result : [[0, 0, 0, 0], [0, 1, 2, 3], [0, 2, 4, 6]]"
   ]
  },
  {
   "cell_type": "code",
   "execution_count": 11,
   "metadata": {},
   "outputs": [
    {
     "name": "stdout",
     "output_type": "stream",
     "text": [
      "[[0, 0, 0], [0, 1, 2], [0, 2, 4]]\n"
     ]
    }
   ],
   "source": [
    "n = int(input(\"Enter number of rows: \"))\n",
    "m = int(input(\"Enter number of column: \"))\n",
    "\n",
    "array = []\n",
    "for i in range(n):\n",
    "    row = []\n",
    "    for j in range(m):\n",
    "        row.append(i*j)\n",
    "    array.append(row)\n",
    "print(array)"
   ]
  },
  {
   "cell_type": "markdown",
   "metadata": {},
   "source": [
    "### 12. Write a Python program that accepts a sequence of lines (blank line to terminate) as input and prints the lines as output (all characters in lower case)."
   ]
  },
  {
   "cell_type": "code",
   "execution_count": 12,
   "metadata": {},
   "outputs": [
    {
     "name": "stdout",
     "output_type": "stream",
     "text": [
      "tushar\n"
     ]
    }
   ],
   "source": [
    "lines = input(\"Enter the string: \")\n",
    "for i in lines.split(\" \"):\n",
    "    print(i.lower())"
   ]
  },
  {
   "cell_type": "markdown",
   "metadata": {},
   "source": [
    "### 13. Write a Python program which accepts a sequence of comma separated 4 digit binary numbers as its input and print the numbers that are divisible by 5 in a comma separated sequence. Sample Data : 0100,0011,1010,1001,1100,1001 Expected Output : 1010"
   ]
  },
  {
   "cell_type": "code",
   "execution_count": 13,
   "metadata": {},
   "outputs": [
    {
     "name": "stdout",
     "output_type": "stream",
     "text": [
      "5\n"
     ]
    }
   ],
   "source": [
    "seq = input(\"Enter the sequence of comma separated 4digits binary number: \")\n",
    "def binaryToDecimal(binary):\n",
    "    binary1 = binary\n",
    "    decimal, i, n = 0, 0, 0\n",
    "    while(binary != 0):\n",
    "        dec = binary % 10\n",
    "        decimal = decimal + dec * pow(2, i)\n",
    "        binary = binary//10\n",
    "        i += 1\n",
    "    return decimal\n",
    "for i in seq.split(\",\"):\n",
    "    if binaryToDecimal(int(i))%5 == 0:\n",
    "        print(i)"
   ]
  },
  {
   "cell_type": "markdown",
   "metadata": {},
   "source": [
    "### 14. Write a Python program that accepts a string and calculate the number of digits and letters.Sample Data : Python 3.2 Expected Output : Letters 6 Digits 2"
   ]
  },
  {
   "cell_type": "code",
   "execution_count": 14,
   "metadata": {},
   "outputs": [
    {
     "name": "stdout",
     "output_type": "stream",
     "text": [
      "Total Numbers of Letters in hellow tuhsra is 12\n",
      "Total Numbers of digit in hellow tuhsra is 0\n"
     ]
    }
   ],
   "source": [
    "word = input(\"Enter Something: \")\n",
    "letters = 0\n",
    "digits = 0\n",
    "a = 0\n",
    "list = []\n",
    "list[:] = word\n",
    "while a< len(word):\n",
    "    if list[a].isalpha():\n",
    "        letters += 1\n",
    "    elif list[a].isdigit():\n",
    "        digits += 1\n",
    "    a += 1\n",
    "print(\"Total Numbers of Letters in {} is {}\".format(word, letters))\n",
    "print(\"Total Numbers of digit in {} is {}\".format(word, digits))"
   ]
  },
  {
   "cell_type": "markdown",
   "metadata": {},
   "source": [
    "### 15. Write a Python program to check the validity of password input by users.\n",
    "Validation :\n",
    "● At least 1 letter between [a-z] and 1 letter between [A-Z].\n",
    "● At least 1 number between [0-9].\n",
    "● At least 1 character from [$#@].\n",
    "● Minimum length 6 characters.\n",
    "● Maximum length 16 characters."
   ]
  },
  {
   "cell_type": "code",
   "execution_count": 15,
   "metadata": {},
   "outputs": [
    {
     "name": "stdout",
     "output_type": "stream",
     "text": [
      "Your Password is weak \n",
      "check your password must contain following things:-\n",
      "● At least 1 letter between [a-z] and 1 letter between [A-Z].\n",
      "● At least 1 number between [0-9].\n",
      "● At least 1 character from [$#@].\n",
      "● Minimum length 6 characters.\n",
      "● Maximum length 16 characters.\n"
     ]
    }
   ],
   "source": [
    "password = input(\"Enter Your Password: \")\n",
    "a = 0\n",
    "list = []\n",
    "list[:] = password\n",
    "Special = [\"$\",\"#\",\"@\"]\n",
    "alpha_count1 = 0\n",
    "alpha_count2 = 0\n",
    "digit_count = 0\n",
    "special_count = 0\n",
    "while a< len(password):\n",
    "    if len(password) <6:\n",
    "        print(\"You need atleast 6 characters in your password\")\n",
    "        break\n",
    "    else:\n",
    "        if list[a].islower():\n",
    "            alpha_count1 += 1\n",
    "        elif list[a].isdigit():\n",
    "            digit_count += 1\n",
    "        elif list[a].isupper():\n",
    "            alpha_count2 += 1\n",
    "        elif list[a] in Special:\n",
    "            special_count += 1\n",
    "        a += 1\n",
    "if alpha_count1 != 0 and digit_count != 0 and special_count != 0:\n",
    "    print(\"Your Password is Strong\")\n",
    "else:\n",
    "    print(\"Your Password is weak \\nCheck your password must contain following things:-\\n● At least 1 letter between [a-z] and 1 letter between [A-Z].\\n● At least 1 number between [0-9].\\n● At least 1 character from [$#@].\\n● Minimum length 6 characters.\\n● Maximum length 16 characters.\")\n"
   ]
  },
  {
   "cell_type": "markdown",
   "metadata": {},
   "source": [
    "### 16. Write a Python program to find numbers between 100 and400 (both included) where each digit of a number is an even number. The numbers obtained should be printed in a comma-separated sequence."
   ]
  },
  {
   "cell_type": "code",
   "execution_count": 16,
   "metadata": {},
   "outputs": [
    {
     "name": "stdout",
     "output_type": "stream",
     "text": [
      "100, 102, 104, 106, 108, 110, 112, 114, 116, 118, 120, 122, 124, 126, 128, 130, 132, 134, 136, 138, 140, 142, 144, 146, 148, 150, 152, 154, 156, 158, 160, 162, 164, 166, 168, 170, 172, 174, 176, 178, 180, 182, 184, 186, 188, 190, 192, 194, 196, 198, 200, 202, 204, 206, 208, 210, 212, 214, 216, 218, 220, 222, 224, 226, 228, 230, 232, 234, 236, 238, 240, 242, 244, 246, 248, 250, 252, 254, 256, 258, 260, 262, 264, 266, 268, 270, 272, 274, 276, 278, 280, 282, 284, 286, 288, 290, 292, 294, 296, 298, 300, 302, 304, 306, 308, 310, 312, 314, 316, 318, 320, 322, 324, 326, 328, 330, 332, 334, 336, 338, 340, 342, 344, 346, 348, 350, 352, 354, 356, 358, 360, 362, 364, 366, 368, 370, 372, 374, 376, 378, 380, 382, 384, 386, 388, 390, 392, 394, 396, 398, 400, "
     ]
    }
   ],
   "source": [
    "n = 100\n",
    "while n<= 400:\n",
    "    if n%2 == 0:\n",
    "        print(n, end=\", \")\n",
    "    n += 1"
   ]
  },
  {
   "cell_type": "markdown",
   "metadata": {},
   "source": [
    "### 17. Write a Python program to print alphabet pattern 'A'.\n",
    "Expected Output:"
   ]
  },
  {
   "cell_type": "code",
   "execution_count": 17,
   "metadata": {},
   "outputs": [
    {
     "name": "stdout",
     "output_type": "stream",
     "text": [
      " ***\n",
      "*   *\n",
      "*   *\n",
      "*****\n",
      "*   *\n",
      "*   *\n",
      "*   *\n"
     ]
    }
   ],
   "source": [
    "\"\"\" ***\n",
    "*   *\n",
    "*   *\n",
    "*****\n",
    "*   *\n",
    "*   *\n",
    "*   *\"\"\"\n",
    "\n",
    "center = int(input(\"Enter the length of A: \"))\n",
    "n = 0\n",
    "while n<= 6:\n",
    "    if n == 0:\n",
    "        print(\" \", end=\"\")\n",
    "        print(\"*\"*(center-2))\n",
    "    elif n < 3:\n",
    "        print(\"*\", end=\"\")\n",
    "        print(\" \"*(center-2), end=\"\")\n",
    "        print(\"*\")\n",
    "    elif n == 3:\n",
    "        print(\"*\"*center)\n",
    "    elif n>= 4:\n",
    "        print(\"*\", end=\"\")\n",
    "        print(\" \"*(center-2), end = \"\")\n",
    "        print(\"*\")\n",
    "    n += 1"
   ]
  },
  {
   "cell_type": "markdown",
   "metadata": {},
   "source": [
    "### 18. Write a Python program to print alphabet pattern 'D'."
   ]
  },
  {
   "cell_type": "code",
   "execution_count": 18,
   "metadata": {},
   "outputs": [
    {
     "name": "stdout",
     "output_type": "stream",
     "text": [
      "**********\n",
      "*          *\n",
      "*          *\n",
      "*          *\n",
      "*          *\n",
      "*          *\n",
      "**********"
     ]
    }
   ],
   "source": [
    "\"\"\"Expected Output:\n",
    "*****\n",
    "*    *\n",
    "*    *\n",
    "*    *\n",
    "*    *\n",
    "*    *\n",
    "*****\"\"\"\n",
    "\n",
    "n = 10\n",
    "i = 0\n",
    "while i <= n:\n",
    "    if i==0:\n",
    "        print(\"*\"*n, end= \"\")\n",
    "        print()\n",
    "    elif i <= 5:\n",
    "        print(\"*\", \" \"*(n-2),\"*\")\n",
    "    elif i> 5 and i<7:\n",
    "        print(\"*\"*n, end= \"\")\n",
    "    i +=1"
   ]
  },
  {
   "cell_type": "markdown",
   "metadata": {},
   "source": [
    "### 19. Write a Python program to print alphabet pattern 'E'.\n",
    "Expected Output:"
   ]
  },
  {
   "cell_type": "code",
   "execution_count": 19,
   "metadata": {},
   "outputs": [
    {
     "name": "stdout",
     "output_type": "stream",
     "text": [
      "******\n",
      "*\n",
      "*\n",
      "*****\n",
      "*\n",
      "*\n",
      "******\n"
     ]
    }
   ],
   "source": [
    "\"\"\"\n",
    "*****\n",
    "*\n",
    "*\n",
    "****\n",
    "*\n",
    "*\n",
    "*****\n",
    "\"\"\"\n",
    "\n",
    "n = 6\n",
    "i = 0\n",
    "while i <= n:\n",
    "    if i == 0:\n",
    "        print(\"*\"*n,end=\"\")\n",
    "        print()\n",
    "    elif i <= 2:\n",
    "        print(\"*\")\n",
    "    elif i == 3:\n",
    "        print(\"*\"*(n-1),end=\"\")\n",
    "        print()\n",
    "    elif i <= 5:\n",
    "        print(\"*\")\n",
    "    elif i == 6:\n",
    "        print(\"*\"*n,end=\"\")\n",
    "        print()\n",
    "    i += 1"
   ]
  },
  {
   "cell_type": "code",
   "execution_count": null,
   "metadata": {},
   "outputs": [],
   "source": []
  }
 ],
 "metadata": {
  "interpreter": {
   "hash": "11938c6bc6919ae2720b4d5011047913343b08a43b18698fd82dedb0d4417594"
  },
  "kernelspec": {
   "display_name": "Python 3.9.7 64-bit",
   "language": "python",
   "name": "python3"
  },
  "language_info": {
   "codemirror_mode": {
    "name": "ipython",
    "version": 3
   },
   "file_extension": ".py",
   "mimetype": "text/x-python",
   "name": "python",
   "nbconvert_exporter": "python",
   "pygments_lexer": "ipython3",
   "version": "3.9.7"
  },
  "orig_nbformat": 4
 },
 "nbformat": 4,
 "nbformat_minor": 2
}
