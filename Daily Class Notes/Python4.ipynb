{
 "cells": [
  {
   "cell_type": "code",
   "execution_count": 1,
   "metadata": {},
   "outputs": [
    {
     "name": "stdout",
     "output_type": "stream",
     "text": [
      "6\n",
      "63\n",
      "4\n",
      "109\n"
     ]
    },
    {
     "ename": "TypeError",
     "evalue": "unsupported operand type(s) for +: 'int' and 'str'",
     "output_type": "error",
     "traceback": [
      "\u001b[1;31m---------------------------------------------------------------------------\u001b[0m",
      "\u001b[1;31mTypeError\u001b[0m                                 Traceback (most recent call last)",
      "\u001b[1;32me:\\Tushar Programs\\Python Basic\\Daily Class Notes\\Python4.ipynb Cell 1'\u001b[0m in \u001b[0;36m<module>\u001b[1;34m\u001b[0m\n\u001b[0;32m      <a href='vscode-notebook-cell:/e%3A/Tushar%20Programs/Python%20Basic/Daily%20Class%20Notes/Python4.ipynb#ch0000000?line=5'>6</a>\u001b[0m \u001b[39mprint\u001b[39m(\u001b[39msum\u001b[39m(l))\n\u001b[0;32m      <a href='vscode-notebook-cell:/e%3A/Tushar%20Programs/Python%20Basic/Daily%20Class%20Notes/Python4.ipynb#ch0000000?line=7'>8</a>\u001b[0m l \u001b[39m=\u001b[39m [\u001b[39m1\u001b[39m,\u001b[39m2\u001b[39m,\u001b[39m3\u001b[39m,\u001b[39m4\u001b[39m,\u001b[39m\"\u001b[39m\u001b[39mA\u001b[39m\u001b[39m\"\u001b[39m]\n\u001b[1;32m----> <a href='vscode-notebook-cell:/e%3A/Tushar%20Programs/Python%20Basic/Daily%20Class%20Notes/Python4.ipynb#ch0000000?line=8'>9</a>\u001b[0m \u001b[39mprint\u001b[39m(\u001b[39msum\u001b[39;49m(l))\n\u001b[0;32m     <a href='vscode-notebook-cell:/e%3A/Tushar%20Programs/Python%20Basic/Daily%20Class%20Notes/Python4.ipynb#ch0000000?line=10'>11</a>\u001b[0m l \u001b[39m=\u001b[39m [\u001b[39m\"\u001b[39m\u001b[39mA\u001b[39m\u001b[39m\"\u001b[39m, \u001b[39m\"\u001b[39m\u001b[39mB\u001b[39m\u001b[39m\"\u001b[39m]\n\u001b[0;32m     <a href='vscode-notebook-cell:/e%3A/Tushar%20Programs/Python%20Basic/Daily%20Class%20Notes/Python4.ipynb#ch0000000?line=11'>12</a>\u001b[0m \u001b[39mprint\u001b[39m(\u001b[39msum\u001b[39m(l))\n",
      "\u001b[1;31mTypeError\u001b[0m: unsupported operand type(s) for +: 'int' and 'str'"
     ]
    }
   ],
   "source": [
    "l = [10,20,4,5,63,7]\n",
    "print(len(l))\n",
    "\n",
    "print(max(l))\n",
    "print(min(l))\n",
    "print(sum(l))\n",
    "\n",
    "l = [1,2,3,4,\"A\"]\n",
    "print(sum(l))\n",
    "\n",
    "l = [\"A\", \"B\"]\n",
    "print(sum(l)) "
   ]
  },
  {
   "cell_type": "code",
   "execution_count": 6,
   "metadata": {},
   "outputs": [
    {
     "name": "stdout",
     "output_type": "stream",
     "text": [
      "<class 'list'>\n",
      "10\n",
      "<class 'int'>\n",
      "[10, 100, 5, 'A', 4]\n",
      "[4, 'A', 5, 100, 10]\n"
     ]
    }
   ],
   "source": [
    "list = [10,10,5,\"A\",4]\n",
    "print(type(list))\n",
    "\n",
    "print(list[0])\n",
    "print(type(list[0]))\n",
    "\n",
    "list[1] = 100\n",
    "print(list)\n",
    "\n",
    "print(list[::-1])"
   ]
  },
  {
   "cell_type": "code",
   "execution_count": 8,
   "metadata": {},
   "outputs": [
    {
     "name": "stdout",
     "output_type": "stream",
     "text": [
      "<class 'list'>\n",
      "[1, 'beer', 2, 3, 5]\n",
      "2\n",
      "1\n"
     ]
    }
   ],
   "source": [
    "n= [1,2,3]\n",
    "print(type(n))\n",
    "\n",
    "n.append(5)\n",
    "n.insert(1,\"beer\")\n",
    "print(n)\n",
    "print(n.index(2))\n",
    "print(n.count(3))"
   ]
  },
  {
   "cell_type": "code",
   "execution_count": 10,
   "metadata": {},
   "outputs": [
    {
     "name": "stdout",
     "output_type": "stream",
     "text": [
      "65\n",
      "#\n"
     ]
    }
   ],
   "source": [
    "print(ord(\"A\"))\n",
    "print(chr(35))\n"
   ]
  },
  {
   "cell_type": "markdown",
   "metadata": {},
   "source": [
    "# WAP to enter 5 element from user and append them into a list and print the list\n"
   ]
  },
  {
   "cell_type": "code",
   "execution_count": 12,
   "metadata": {},
   "outputs": [
    {
     "name": "stdout",
     "output_type": "stream",
     "text": [
      "[1, 2, 3, 4, 5]\n",
      "1\n",
      "2\n",
      "3\n",
      "4\n",
      "5\n"
     ]
    }
   ],
   "source": [
    "l = []\n",
    "n = 0\n",
    "while n < 5:\n",
    "    value = int(input(\"Enter value: \"))\n",
    "    l.append(value)\n",
    "    n += 1\n",
    "print(l)\n",
    "\n",
    "n = 0\n",
    "while n<5:\n",
    "    print(l[n])\n",
    "    n+=1"
   ]
  },
  {
   "cell_type": "markdown",
   "metadata": {},
   "source": [
    "# WAP to enter 5 elements from user and print total and average of them"
   ]
  },
  {
   "cell_type": "code",
   "execution_count": 13,
   "metadata": {},
   "outputs": [
    {
     "name": "stdout",
     "output_type": "stream",
     "text": [
      "[1, 2, 3, 4, 5]\n",
      "Total :  15\n",
      "Average:  3.0\n"
     ]
    }
   ],
   "source": [
    "l = []\n",
    "n = 0\n",
    "while n < 5:\n",
    "    value = int(input(\"Enter value: \"))\n",
    "    l.append(value)\n",
    "    n += 1\n",
    "print(l)\n",
    "\n",
    "print(\"Total : \", sum(l))\n",
    "print(\"Average: \",(sum(l)/len(l)))"
   ]
  },
  {
   "cell_type": "markdown",
   "metadata": {},
   "source": [
    "# WAP to enter 5 elements from user and print sum of them without using sum function\n"
   ]
  },
  {
   "cell_type": "code",
   "execution_count": 14,
   "metadata": {},
   "outputs": [
    {
     "name": "stdout",
     "output_type": "stream",
     "text": [
      "[1, 2, 3, 4, 5]\n",
      "Total :  15\n",
      "Average:  3.0\n"
     ]
    }
   ],
   "source": [
    "#WAP to enter 5 elements from user and print sum of them without using sum function\n",
    "l = []\n",
    "n = 0\n",
    "while n < 5:\n",
    "    value = int(input(\"Enter value: \"))\n",
    "    l.append(value)\n",
    "    n += 1\n",
    "print(l)\n",
    "\n",
    "n = 0\n",
    "m = 0\n",
    "while n<5:\n",
    "    m += l[n]\n",
    "    n+=1\n",
    "print(\"Total : \", m)\n",
    "print(\"Average: \",m/5)"
   ]
  },
  {
   "cell_type": "code",
   "execution_count": null,
   "metadata": {},
   "outputs": [],
   "source": []
  }
 ],
 "metadata": {
  "interpreter": {
   "hash": "11938c6bc6919ae2720b4d5011047913343b08a43b18698fd82dedb0d4417594"
  },
  "kernelspec": {
   "display_name": "Python 3.9.7 64-bit",
   "language": "python",
   "name": "python3"
  },
  "language_info": {
   "codemirror_mode": {
    "name": "ipython",
    "version": 3
   },
   "file_extension": ".py",
   "mimetype": "text/x-python",
   "name": "python",
   "nbconvert_exporter": "python",
   "pygments_lexer": "ipython3",
   "version": "3.9.7"
  },
  "orig_nbformat": 4
 },
 "nbformat": 4,
 "nbformat_minor": 2
}
