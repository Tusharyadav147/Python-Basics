{
 "cells": [
  {
   "cell_type": "code",
   "execution_count": 1,
   "metadata": {},
   "outputs": [
    {
     "name": "stdout",
     "output_type": "stream",
     "text": [
      "Indore\n",
      "<class 'str'>\n",
      "I\n"
     ]
    }
   ],
   "source": [
    "s = \"Indore\"\n",
    "print(s)\n",
    "\n",
    "print(type(s))\n",
    "print(s[0])"
   ]
  },
  {
   "cell_type": "code",
   "execution_count": 2,
   "metadata": {},
   "outputs": [
    {
     "name": "stdout",
     "output_type": "stream",
     "text": [
      "n\n",
      "Ind\n",
      "oh etrk ahsan asnok uhsnahgeM olleH\n",
      "6\n",
      "r\n",
      "I\n"
     ]
    }
   ],
   "source": [
    "c = \"communication\"\n",
    "print(c[-1])\n",
    "print(s[0:3])\n",
    "\n",
    "\n",
    "a = \"Hello Meghanshu konsa nasha krte ho\"\n",
    "print(a[::-1])\n",
    "\n",
    "print(len(s))\n",
    "print(max(s))\n",
    "print(min(s))"
   ]
  },
  {
   "cell_type": "code",
   "execution_count": 3,
   "metadata": {},
   "outputs": [
    {
     "name": "stdout",
     "output_type": "stream",
     "text": [
      "['1', '2', '3', '4', '5']\n",
      "15\n"
     ]
    }
   ],
   "source": [
    "r = \"1+2+3+4+5\"\n",
    "d = r.split(\"+\")\n",
    "print(d)\n",
    "\n",
    "n= 0\n",
    "m = 0\n",
    "while n<len(d):\n",
    "    m +=int(d[n])\n",
    "    n+=1\n",
    "print(m)"
   ]
  },
  {
   "cell_type": "markdown",
   "metadata": {},
   "source": [
    "# WAP to enter a string from user and print lenght of it"
   ]
  },
  {
   "cell_type": "code",
   "execution_count": 4,
   "metadata": {},
   "outputs": [
    {
     "name": "stdout",
     "output_type": "stream",
     "text": [
      "erjk\n"
     ]
    }
   ],
   "source": [
    "s = input(\"Enter Here: \")\n",
    "if len(s)<= 2:\n",
    "    print(\"your string lenght is less then 2\")\n",
    "else:\n",
    "    print(s[:2] + s[-2:])"
   ]
  },
  {
   "cell_type": "code",
   "execution_count": null,
   "metadata": {},
   "outputs": [],
   "source": []
  }
 ],
 "metadata": {
  "interpreter": {
   "hash": "11938c6bc6919ae2720b4d5011047913343b08a43b18698fd82dedb0d4417594"
  },
  "kernelspec": {
   "display_name": "Python 3.9.7 64-bit",
   "language": "python",
   "name": "python3"
  },
  "language_info": {
   "codemirror_mode": {
    "name": "ipython",
    "version": 3
   },
   "file_extension": ".py",
   "mimetype": "text/x-python",
   "name": "python",
   "nbconvert_exporter": "python",
   "pygments_lexer": "ipython3",
   "version": "3.9.7"
  },
  "orig_nbformat": 4
 },
 "nbformat": 4,
 "nbformat_minor": 2
}
